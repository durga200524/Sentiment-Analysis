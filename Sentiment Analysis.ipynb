{
  "cells": [
    {
      "cell_type": "code",
      "source": [
        "# Install TextBlob\n",
        "!pip install textblob\n",
        "\n",
        "# Import libraries\n",
        "from textblob import TextBlob\n",
        "import pandas as pd\n",
        "\n",
        "# Sample dataset (can be replaced with Amazon reviews, Tweets, etc.)\n",
        "reviews = [\n",
        "    \"I love this product! It works perfectly and is worth every penny.\",\n",
        "    \"This is the worst purchase I have ever made. Completely useless.\",\n",
        "    \"The product is okay, nothing special but not bad either.\",\n",
        "    \"Amazing quality and fantastic service. Highly recommended!\",\n",
        "    \"Terrible experience. I will never buy from here again.\",\n",
        "    \"It’s fine. Could be better, could be worse.\"\n",
        "]\n",
        "\n",
        "# Create DataFrame\n",
        "df = pd.DataFrame(reviews, columns=[\"Review\"])\n",
        "\n",
        "# Function to analyze sentiment\n",
        "def get_sentiment(text):\n",
        "    blob = TextBlob(text)\n",
        "    polarity = blob.sentiment.polarity  # Range: -1 (negative) to +1 (positive)\n",
        "    if polarity > 0:\n",
        "        return \"Positive\"\n",
        "    elif polarity < 0:\n",
        "        return \"Negative\"\n",
        "    else:\n",
        "        return \"Neutral\"\n",
        "\n",
        "# Apply sentiment analysis\n",
        "df[\"Sentiment\"] = df[\"Review\"].apply(get_sentiment)\n",
        "\n",
        "# Show results\n",
        "print(df)\n",
        "\n",
        "# Save to CSV\n",
        "df.to_csv(\"sentiment_results.csv\", index=False)\n",
        "print(\"Results saved as sentiment_results.csv\")\n"
      ],
      "metadata": {
        "id": "kTquIllaAuBj",
        "outputId": "b7ee4940-9b46-4ad8-b34c-25305f20f84a",
        "colab": {
          "base_uri": "https://localhost:8080/"
        }
      },
      "execution_count": 6,
      "outputs": [
        {
          "output_type": "stream",
          "name": "stdout",
          "text": [
            "Requirement already satisfied: textblob in /usr/local/lib/python3.11/dist-packages (0.19.0)\n",
            "Requirement already satisfied: nltk>=3.9 in /usr/local/lib/python3.11/dist-packages (from textblob) (3.9.1)\n",
            "Requirement already satisfied: click in /usr/local/lib/python3.11/dist-packages (from nltk>=3.9->textblob) (8.2.1)\n",
            "Requirement already satisfied: joblib in /usr/local/lib/python3.11/dist-packages (from nltk>=3.9->textblob) (1.5.1)\n",
            "Requirement already satisfied: regex>=2021.8.3 in /usr/local/lib/python3.11/dist-packages (from nltk>=3.9->textblob) (2024.11.6)\n",
            "Requirement already satisfied: tqdm in /usr/local/lib/python3.11/dist-packages (from nltk>=3.9->textblob) (4.67.1)\n",
            "                                              Review Sentiment\n",
            "0  I love this product! It works perfectly and is...  Positive\n",
            "1  This is the worst purchase I have ever made. C...  Negative\n",
            "2  The product is okay, nothing special but not b...  Positive\n",
            "3  Amazing quality and fantastic service. Highly ...  Positive\n",
            "4  Terrible experience. I will never buy from her...  Negative\n",
            "5        It’s fine. Could be better, could be worse.  Positive\n",
            "Results saved as sentiment_results.csv\n"
          ]
        }
      ]
    }
  ],
  "metadata": {
    "colab": {
      "name": "Welcome To Colab",
      "toc_visible": true,
      "provenance": []
    },
    "kernelspec": {
      "display_name": "Python 3",
      "name": "python3"
    }
  },
  "nbformat": 4,
  "nbformat_minor": 0
}